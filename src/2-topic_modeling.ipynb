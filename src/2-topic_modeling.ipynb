{
 "cells": [
  {
   "cell_type": "markdown",
   "metadata": {},
   "source": [
    "# **2 - Topic Modeling**\n",
    "\n",
    "This notebook contains the code that runs LDA topic modeling to identify potential themes in the dataset.\n",
    "\n",
    "**Requirements**: This notebook requires having installed the packages declared in the `requirements.txt` file. Please make sure to have followed the instructions provided in the `README.md` file before running it."
   ]
  },
  {
   "cell_type": "markdown",
   "metadata": {},
   "source": [
    "## **Model set up**"
   ]
  },
  {
   "cell_type": "code",
   "execution_count": 1,
   "metadata": {},
   "outputs": [],
   "source": [
    "from utils import read_file\n",
    "from ml_utils import *"
   ]
  },
  {
   "cell_type": "code",
   "execution_count": 2,
   "metadata": {},
   "outputs": [],
   "source": [
    "# Creates vectorizer object with survey responses\n",
    "data_dir = 'data'\n",
    "data_filename = 'coded_response_dataframe.pkl'\n",
    "survey_df = read_file(data_dir, data_filename)\n",
    "X, vectorizer = responses_to_vectors(survey_df)"
   ]
  },
  {
   "cell_type": "markdown",
   "metadata": {},
   "source": [
    "## **LDA Model training**"
   ]
  },
  {
   "cell_type": "code",
   "execution_count": 3,
   "metadata": {},
   "outputs": [
    {
     "name": "stdout",
     "output_type": "stream",
     "text": [
      "iteration: 1 of max_iter: 500, perplexity: 841.3143\n",
      "iteration: 2 of max_iter: 500, perplexity: 804.2784\n",
      "iteration: 3 of max_iter: 500, perplexity: 793.3302\n",
      "iteration: 4 of max_iter: 500, perplexity: 787.9393\n",
      "iteration: 5 of max_iter: 500, perplexity: 784.7214\n",
      "iteration: 6 of max_iter: 500, perplexity: 782.8458\n",
      "iteration: 7 of max_iter: 500, perplexity: 781.6033\n",
      "iteration: 8 of max_iter: 500, perplexity: 780.7591\n",
      "iteration: 9 of max_iter: 500, perplexity: 780.0581\n",
      "iteration: 10 of max_iter: 500, perplexity: 779.5089\n",
      "iteration: 11 of max_iter: 500, perplexity: 779.0438\n",
      "iteration: 12 of max_iter: 500, perplexity: 778.6424\n",
      "iteration: 13 of max_iter: 500, perplexity: 778.3171\n",
      "iteration: 14 of max_iter: 500, perplexity: 778.0494\n",
      "iteration: 15 of max_iter: 500, perplexity: 777.7608\n",
      "iteration: 16 of max_iter: 500, perplexity: 777.5593\n",
      "iteration: 17 of max_iter: 500, perplexity: 777.3857\n",
      "iteration: 18 of max_iter: 500, perplexity: 777.2322\n",
      "iteration: 19 of max_iter: 500, perplexity: 777.0948\n",
      "iteration: 20 of max_iter: 500, perplexity: 776.9799\n",
      "iteration: 21 of max_iter: 500, perplexity: 776.8873\n",
      "\n",
      "Theme No.: 0\n",
      "Sum of corresponding row: 4080.4531465779655\n",
      "Top 20 words: ['virus', 'good', 'need', 'president', 'seriously', 'life', 'say', 'save', 'taking', 'cdc', 'going', 'lady', 'person', 'save life', 'great', 'leader', 'strong', 'help', 'job', 'situation']\n",
      "--------------------------------------------\n",
      "\n",
      "Theme No.: 1\n",
      "Sum of corresponding row: 4148.770292715509\n",
      "Top 20 words: ['wearing', 'wearing mask', 'science', 'pandemic', 'expert', 'message', 'concern', 'listen', 'speaks', 'follow', 'truth', 'listens', 'honest', 'way', 'protect', 'said', 'trump', 'face', 'listening', 'importance']\n",
      "--------------------------------------------\n",
      "\n",
      "Theme No.: 2\n",
      "Sum of corresponding row: 5244.70590602964\n",
      "Top 20 words: ['people', 'like', 'just', 'need', 'medical', 'know', 'country', 'fact', 'family', 'care people', 'did', 'government', 'word', 'human', 'understands', 'act', 'caring', 'love', 'trump', 'government care']\n",
      "--------------------------------------------\n",
      "\n",
      "Theme No.: 3\n",
      "Sum of corresponding row: 6729.476374931111\n",
      "Top 20 words: ['biden', 'joe', 'covid', 'health', 'joe biden', 'healthcare', 'make', 'affordable', 'spread', 'help', 'people', 'american', 'ready', 'prevent', 'plan ready', 'spread covid', 'feel', 'health care', 'americans', 'safe']\n",
      "--------------------------------------------\n",
      "\n",
      "Theme No.: 4\n",
      "Sum of corresponding row: 5444.170377821585\n",
      "Top 20 words: ['trump', 'wear', 'wear mask', 'president', 'covid', 'better', 'doe', 'safety', 'think', 'compassion', 'politics', 'biden', 'stop', 'wish', 'virus', 'wife', 'talk', 'donald', 'recovery', 'empathy']\n",
      "--------------------------------------------\n"
     ]
    }
   ],
   "source": [
    "# Runs LDA Topic Modeling\n",
    "lda_model, top20_theme_words_v1 = implement_lda(X, vectorizer)"
   ]
  },
  {
   "cell_type": "code",
   "execution_count": 4,
   "metadata": {},
   "outputs": [
    {
     "name": "stdout",
     "output_type": "stream",
     "text": [
      "Log Likelihood:  -159148.0762361962\n",
      "Perplexity:  776.8872951782104\n",
      "{'batch_size': 128,\n",
      " 'doc_topic_prior': None,\n",
      " 'evaluate_every': 1,\n",
      " 'learning_decay': 0.7,\n",
      " 'learning_method': 'online',\n",
      " 'learning_offset': 10.0,\n",
      " 'max_doc_update_iter': 100,\n",
      " 'max_iter': 500,\n",
      " 'mean_change_tol': 0.001,\n",
      " 'n_components': 5,\n",
      " 'n_jobs': None,\n",
      " 'perp_tol': 0.1,\n",
      " 'random_state': 20,\n",
      " 'topic_word_prior': None,\n",
      " 'total_samples': 1000000.0,\n",
      " 'verbose': 1}\n"
     ]
    }
   ],
   "source": [
    "# Log Likelihood\n",
    "print(\"Log Likelihood: \", lda_model.score(X))\n",
    "# Perplexity: Lower the better. Perplexity = exp(-1. * log-likelihood per word)\n",
    "print(\"Perplexity: \", lda_model.perplexity(X))\n",
    "# See model parameters\n",
    "pprint(lda_model.get_params())"
   ]
  },
  {
   "cell_type": "code",
   "execution_count": 9,
   "metadata": {},
   "outputs": [
    {
     "data": {
      "text/plain": [
       "['../artifacts/lda_model.joblib']"
      ]
     },
     "execution_count": 9,
     "metadata": {},
     "output_type": "execute_result"
    }
   ],
   "source": [
    "# Dumps model artifacts into specified folder\n",
    "model_filename = 'lda_model.joblib'\n",
    "vectorizer_filename = 'vectorizer.joblib'\n",
    "X_filename = 'X.joblib'\n",
    "artifacts_dir =\"artifacts/\"\n",
    "\n",
    "joblib.dump(X, os.path.join(\"../\" + artifacts_dir, X_filename))\n",
    "joblib.dump(vectorizer, os.path.join(\"../\" + artifacts_dir, vectorizer_filename))\n",
    "joblib.dump(lda_model, os.path.join(\"../\" + artifacts_dir, model_filename))"
   ]
  },
  {
   "cell_type": "markdown",
   "metadata": {},
   "source": [
    "## **Themes visualization**"
   ]
  },
  {
   "cell_type": "code",
   "execution_count": 6,
   "metadata": {},
   "outputs": [
    {
     "data": {
      "text/html": [
       "<style  type=\"text/css\" >\n",
       "#T_50354346_10f2_11ec_a552_a683e7d693f6row0_col0,#T_50354346_10f2_11ec_a552_a683e7d693f6row0_col1,#T_50354346_10f2_11ec_a552_a683e7d693f6row0_col3,#T_50354346_10f2_11ec_a552_a683e7d693f6row0_col5,#T_50354346_10f2_11ec_a552_a683e7d693f6row1_col0,#T_50354346_10f2_11ec_a552_a683e7d693f6row2_col3,#T_50354346_10f2_11ec_a552_a683e7d693f6row2_col5,#T_50354346_10f2_11ec_a552_a683e7d693f6row3_col1,#T_50354346_10f2_11ec_a552_a683e7d693f6row3_col2,#T_50354346_10f2_11ec_a552_a683e7d693f6row3_col5,#T_50354346_10f2_11ec_a552_a683e7d693f6row4_col0,#T_50354346_10f2_11ec_a552_a683e7d693f6row5_col0,#T_50354346_10f2_11ec_a552_a683e7d693f6row5_col3,#T_50354346_10f2_11ec_a552_a683e7d693f6row5_col4,#T_50354346_10f2_11ec_a552_a683e7d693f6row5_col5,#T_50354346_10f2_11ec_a552_a683e7d693f6row6_col1,#T_50354346_10f2_11ec_a552_a683e7d693f6row6_col4,#T_50354346_10f2_11ec_a552_a683e7d693f6row6_col5,#T_50354346_10f2_11ec_a552_a683e7d693f6row7_col0,#T_50354346_10f2_11ec_a552_a683e7d693f6row8_col2,#T_50354346_10f2_11ec_a552_a683e7d693f6row8_col5,#T_50354346_10f2_11ec_a552_a683e7d693f6row9_col1,#T_50354346_10f2_11ec_a552_a683e7d693f6row9_col3,#T_50354346_10f2_11ec_a552_a683e7d693f6row9_col4,#T_50354346_10f2_11ec_a552_a683e7d693f6row9_col5,#T_50354346_10f2_11ec_a552_a683e7d693f6row10_col0,#T_50354346_10f2_11ec_a552_a683e7d693f6row11_col3,#T_50354346_10f2_11ec_a552_a683e7d693f6row11_col5,#T_50354346_10f2_11ec_a552_a683e7d693f6row12_col3,#T_50354346_10f2_11ec_a552_a683e7d693f6row12_col5,#T_50354346_10f2_11ec_a552_a683e7d693f6row13_col1,#T_50354346_10f2_11ec_a552_a683e7d693f6row13_col2,#T_50354346_10f2_11ec_a552_a683e7d693f6row13_col5,#T_50354346_10f2_11ec_a552_a683e7d693f6row14_col3,#T_50354346_10f2_11ec_a552_a683e7d693f6row14_col4,#T_50354346_10f2_11ec_a552_a683e7d693f6row14_col5{\n",
       "            color:  green;\n",
       "            font-weight:  700;\n",
       "        }#T_50354346_10f2_11ec_a552_a683e7d693f6row0_col2,#T_50354346_10f2_11ec_a552_a683e7d693f6row0_col4,#T_50354346_10f2_11ec_a552_a683e7d693f6row1_col1,#T_50354346_10f2_11ec_a552_a683e7d693f6row1_col2,#T_50354346_10f2_11ec_a552_a683e7d693f6row1_col3,#T_50354346_10f2_11ec_a552_a683e7d693f6row1_col4,#T_50354346_10f2_11ec_a552_a683e7d693f6row1_col5,#T_50354346_10f2_11ec_a552_a683e7d693f6row2_col0,#T_50354346_10f2_11ec_a552_a683e7d693f6row2_col1,#T_50354346_10f2_11ec_a552_a683e7d693f6row2_col2,#T_50354346_10f2_11ec_a552_a683e7d693f6row2_col4,#T_50354346_10f2_11ec_a552_a683e7d693f6row3_col0,#T_50354346_10f2_11ec_a552_a683e7d693f6row3_col3,#T_50354346_10f2_11ec_a552_a683e7d693f6row3_col4,#T_50354346_10f2_11ec_a552_a683e7d693f6row4_col1,#T_50354346_10f2_11ec_a552_a683e7d693f6row4_col2,#T_50354346_10f2_11ec_a552_a683e7d693f6row4_col3,#T_50354346_10f2_11ec_a552_a683e7d693f6row4_col4,#T_50354346_10f2_11ec_a552_a683e7d693f6row4_col5,#T_50354346_10f2_11ec_a552_a683e7d693f6row5_col1,#T_50354346_10f2_11ec_a552_a683e7d693f6row5_col2,#T_50354346_10f2_11ec_a552_a683e7d693f6row6_col0,#T_50354346_10f2_11ec_a552_a683e7d693f6row6_col2,#T_50354346_10f2_11ec_a552_a683e7d693f6row6_col3,#T_50354346_10f2_11ec_a552_a683e7d693f6row7_col1,#T_50354346_10f2_11ec_a552_a683e7d693f6row7_col2,#T_50354346_10f2_11ec_a552_a683e7d693f6row7_col3,#T_50354346_10f2_11ec_a552_a683e7d693f6row7_col4,#T_50354346_10f2_11ec_a552_a683e7d693f6row7_col5,#T_50354346_10f2_11ec_a552_a683e7d693f6row8_col0,#T_50354346_10f2_11ec_a552_a683e7d693f6row8_col1,#T_50354346_10f2_11ec_a552_a683e7d693f6row8_col3,#T_50354346_10f2_11ec_a552_a683e7d693f6row8_col4,#T_50354346_10f2_11ec_a552_a683e7d693f6row9_col0,#T_50354346_10f2_11ec_a552_a683e7d693f6row9_col2,#T_50354346_10f2_11ec_a552_a683e7d693f6row10_col1,#T_50354346_10f2_11ec_a552_a683e7d693f6row10_col2,#T_50354346_10f2_11ec_a552_a683e7d693f6row10_col3,#T_50354346_10f2_11ec_a552_a683e7d693f6row10_col4,#T_50354346_10f2_11ec_a552_a683e7d693f6row10_col5,#T_50354346_10f2_11ec_a552_a683e7d693f6row11_col0,#T_50354346_10f2_11ec_a552_a683e7d693f6row11_col1,#T_50354346_10f2_11ec_a552_a683e7d693f6row11_col2,#T_50354346_10f2_11ec_a552_a683e7d693f6row11_col4,#T_50354346_10f2_11ec_a552_a683e7d693f6row12_col0,#T_50354346_10f2_11ec_a552_a683e7d693f6row12_col1,#T_50354346_10f2_11ec_a552_a683e7d693f6row12_col2,#T_50354346_10f2_11ec_a552_a683e7d693f6row12_col4,#T_50354346_10f2_11ec_a552_a683e7d693f6row13_col0,#T_50354346_10f2_11ec_a552_a683e7d693f6row13_col3,#T_50354346_10f2_11ec_a552_a683e7d693f6row13_col4,#T_50354346_10f2_11ec_a552_a683e7d693f6row14_col0,#T_50354346_10f2_11ec_a552_a683e7d693f6row14_col1,#T_50354346_10f2_11ec_a552_a683e7d693f6row14_col2{\n",
       "            color:  black;\n",
       "            font-weight:  400;\n",
       "        }</style><table id=\"T_50354346_10f2_11ec_a552_a683e7d693f6\" ><thead>    <tr>        <th class=\"blank level0\" ></th>        <th class=\"col_heading level0 col0\" >Theme0</th>        <th class=\"col_heading level0 col1\" >Theme1</th>        <th class=\"col_heading level0 col2\" >Theme2</th>        <th class=\"col_heading level0 col3\" >Theme3</th>        <th class=\"col_heading level0 col4\" >Theme4</th>        <th class=\"col_heading level0 col5\" >dominant_theme</th>    </tr></thead><tbody>\n",
       "                <tr>\n",
       "                        <th id=\"T_50354346_10f2_11ec_a552_a683e7d693f6level0_row0\" class=\"row_heading level0 row0\" >Doc0</th>\n",
       "                        <td id=\"T_50354346_10f2_11ec_a552_a683e7d693f6row0_col0\" class=\"data row0 col0\" >0.300000</td>\n",
       "                        <td id=\"T_50354346_10f2_11ec_a552_a683e7d693f6row0_col1\" class=\"data row0 col1\" >0.290000</td>\n",
       "                        <td id=\"T_50354346_10f2_11ec_a552_a683e7d693f6row0_col2\" class=\"data row0 col2\" >0.050000</td>\n",
       "                        <td id=\"T_50354346_10f2_11ec_a552_a683e7d693f6row0_col3\" class=\"data row0 col3\" >0.310000</td>\n",
       "                        <td id=\"T_50354346_10f2_11ec_a552_a683e7d693f6row0_col4\" class=\"data row0 col4\" >0.050000</td>\n",
       "                        <td id=\"T_50354346_10f2_11ec_a552_a683e7d693f6row0_col5\" class=\"data row0 col5\" >3</td>\n",
       "            </tr>\n",
       "            <tr>\n",
       "                        <th id=\"T_50354346_10f2_11ec_a552_a683e7d693f6level0_row1\" class=\"row_heading level0 row1\" >Doc1</th>\n",
       "                        <td id=\"T_50354346_10f2_11ec_a552_a683e7d693f6row1_col0\" class=\"data row1 col0\" >0.600000</td>\n",
       "                        <td id=\"T_50354346_10f2_11ec_a552_a683e7d693f6row1_col1\" class=\"data row1 col1\" >0.100000</td>\n",
       "                        <td id=\"T_50354346_10f2_11ec_a552_a683e7d693f6row1_col2\" class=\"data row1 col2\" >0.100000</td>\n",
       "                        <td id=\"T_50354346_10f2_11ec_a552_a683e7d693f6row1_col3\" class=\"data row1 col3\" >0.100000</td>\n",
       "                        <td id=\"T_50354346_10f2_11ec_a552_a683e7d693f6row1_col4\" class=\"data row1 col4\" >0.100000</td>\n",
       "                        <td id=\"T_50354346_10f2_11ec_a552_a683e7d693f6row1_col5\" class=\"data row1 col5\" >0</td>\n",
       "            </tr>\n",
       "            <tr>\n",
       "                        <th id=\"T_50354346_10f2_11ec_a552_a683e7d693f6level0_row2\" class=\"row_heading level0 row2\" >Doc2</th>\n",
       "                        <td id=\"T_50354346_10f2_11ec_a552_a683e7d693f6row2_col0\" class=\"data row2 col0\" >0.030000</td>\n",
       "                        <td id=\"T_50354346_10f2_11ec_a552_a683e7d693f6row2_col1\" class=\"data row2 col1\" >0.030000</td>\n",
       "                        <td id=\"T_50354346_10f2_11ec_a552_a683e7d693f6row2_col2\" class=\"data row2 col2\" >0.030000</td>\n",
       "                        <td id=\"T_50354346_10f2_11ec_a552_a683e7d693f6row2_col3\" class=\"data row2 col3\" >0.870000</td>\n",
       "                        <td id=\"T_50354346_10f2_11ec_a552_a683e7d693f6row2_col4\" class=\"data row2 col4\" >0.030000</td>\n",
       "                        <td id=\"T_50354346_10f2_11ec_a552_a683e7d693f6row2_col5\" class=\"data row2 col5\" >3</td>\n",
       "            </tr>\n",
       "            <tr>\n",
       "                        <th id=\"T_50354346_10f2_11ec_a552_a683e7d693f6level0_row3\" class=\"row_heading level0 row3\" >Doc3</th>\n",
       "                        <td id=\"T_50354346_10f2_11ec_a552_a683e7d693f6row3_col0\" class=\"data row3 col0\" >0.020000</td>\n",
       "                        <td id=\"T_50354346_10f2_11ec_a552_a683e7d693f6row3_col1\" class=\"data row3 col1\" >0.690000</td>\n",
       "                        <td id=\"T_50354346_10f2_11ec_a552_a683e7d693f6row3_col2\" class=\"data row3 col2\" >0.250000</td>\n",
       "                        <td id=\"T_50354346_10f2_11ec_a552_a683e7d693f6row3_col3\" class=\"data row3 col3\" >0.020000</td>\n",
       "                        <td id=\"T_50354346_10f2_11ec_a552_a683e7d693f6row3_col4\" class=\"data row3 col4\" >0.020000</td>\n",
       "                        <td id=\"T_50354346_10f2_11ec_a552_a683e7d693f6row3_col5\" class=\"data row3 col5\" >1</td>\n",
       "            </tr>\n",
       "            <tr>\n",
       "                        <th id=\"T_50354346_10f2_11ec_a552_a683e7d693f6level0_row4\" class=\"row_heading level0 row4\" >Doc4</th>\n",
       "                        <td id=\"T_50354346_10f2_11ec_a552_a683e7d693f6row4_col0\" class=\"data row4 col0\" >0.600000</td>\n",
       "                        <td id=\"T_50354346_10f2_11ec_a552_a683e7d693f6row4_col1\" class=\"data row4 col1\" >0.100000</td>\n",
       "                        <td id=\"T_50354346_10f2_11ec_a552_a683e7d693f6row4_col2\" class=\"data row4 col2\" >0.100000</td>\n",
       "                        <td id=\"T_50354346_10f2_11ec_a552_a683e7d693f6row4_col3\" class=\"data row4 col3\" >0.100000</td>\n",
       "                        <td id=\"T_50354346_10f2_11ec_a552_a683e7d693f6row4_col4\" class=\"data row4 col4\" >0.100000</td>\n",
       "                        <td id=\"T_50354346_10f2_11ec_a552_a683e7d693f6row4_col5\" class=\"data row4 col5\" >0</td>\n",
       "            </tr>\n",
       "            <tr>\n",
       "                        <th id=\"T_50354346_10f2_11ec_a552_a683e7d693f6level0_row5\" class=\"row_heading level0 row5\" >Doc5</th>\n",
       "                        <td id=\"T_50354346_10f2_11ec_a552_a683e7d693f6row5_col0\" class=\"data row5 col0\" >0.240000</td>\n",
       "                        <td id=\"T_50354346_10f2_11ec_a552_a683e7d693f6row5_col1\" class=\"data row5 col1\" >0.040000</td>\n",
       "                        <td id=\"T_50354346_10f2_11ec_a552_a683e7d693f6row5_col2\" class=\"data row5 col2\" >0.040000</td>\n",
       "                        <td id=\"T_50354346_10f2_11ec_a552_a683e7d693f6row5_col3\" class=\"data row5 col3\" >0.440000</td>\n",
       "                        <td id=\"T_50354346_10f2_11ec_a552_a683e7d693f6row5_col4\" class=\"data row5 col4\" >0.240000</td>\n",
       "                        <td id=\"T_50354346_10f2_11ec_a552_a683e7d693f6row5_col5\" class=\"data row5 col5\" >3</td>\n",
       "            </tr>\n",
       "            <tr>\n",
       "                        <th id=\"T_50354346_10f2_11ec_a552_a683e7d693f6level0_row6\" class=\"row_heading level0 row6\" >Doc6</th>\n",
       "                        <td id=\"T_50354346_10f2_11ec_a552_a683e7d693f6row6_col0\" class=\"data row6 col0\" >0.020000</td>\n",
       "                        <td id=\"T_50354346_10f2_11ec_a552_a683e7d693f6row6_col1\" class=\"data row6 col1\" >0.820000</td>\n",
       "                        <td id=\"T_50354346_10f2_11ec_a552_a683e7d693f6row6_col2\" class=\"data row6 col2\" >0.020000</td>\n",
       "                        <td id=\"T_50354346_10f2_11ec_a552_a683e7d693f6row6_col3\" class=\"data row6 col3\" >0.020000</td>\n",
       "                        <td id=\"T_50354346_10f2_11ec_a552_a683e7d693f6row6_col4\" class=\"data row6 col4\" >0.130000</td>\n",
       "                        <td id=\"T_50354346_10f2_11ec_a552_a683e7d693f6row6_col5\" class=\"data row6 col5\" >1</td>\n",
       "            </tr>\n",
       "            <tr>\n",
       "                        <th id=\"T_50354346_10f2_11ec_a552_a683e7d693f6level0_row7\" class=\"row_heading level0 row7\" >Doc7</th>\n",
       "                        <td id=\"T_50354346_10f2_11ec_a552_a683e7d693f6row7_col0\" class=\"data row7 col0\" >0.890000</td>\n",
       "                        <td id=\"T_50354346_10f2_11ec_a552_a683e7d693f6row7_col1\" class=\"data row7 col1\" >0.030000</td>\n",
       "                        <td id=\"T_50354346_10f2_11ec_a552_a683e7d693f6row7_col2\" class=\"data row7 col2\" >0.030000</td>\n",
       "                        <td id=\"T_50354346_10f2_11ec_a552_a683e7d693f6row7_col3\" class=\"data row7 col3\" >0.030000</td>\n",
       "                        <td id=\"T_50354346_10f2_11ec_a552_a683e7d693f6row7_col4\" class=\"data row7 col4\" >0.030000</td>\n",
       "                        <td id=\"T_50354346_10f2_11ec_a552_a683e7d693f6row7_col5\" class=\"data row7 col5\" >0</td>\n",
       "            </tr>\n",
       "            <tr>\n",
       "                        <th id=\"T_50354346_10f2_11ec_a552_a683e7d693f6level0_row8\" class=\"row_heading level0 row8\" >Doc8</th>\n",
       "                        <td id=\"T_50354346_10f2_11ec_a552_a683e7d693f6row8_col0\" class=\"data row8 col0\" >0.030000</td>\n",
       "                        <td id=\"T_50354346_10f2_11ec_a552_a683e7d693f6row8_col1\" class=\"data row8 col1\" >0.030000</td>\n",
       "                        <td id=\"T_50354346_10f2_11ec_a552_a683e7d693f6row8_col2\" class=\"data row8 col2\" >0.870000</td>\n",
       "                        <td id=\"T_50354346_10f2_11ec_a552_a683e7d693f6row8_col3\" class=\"data row8 col3\" >0.030000</td>\n",
       "                        <td id=\"T_50354346_10f2_11ec_a552_a683e7d693f6row8_col4\" class=\"data row8 col4\" >0.030000</td>\n",
       "                        <td id=\"T_50354346_10f2_11ec_a552_a683e7d693f6row8_col5\" class=\"data row8 col5\" >2</td>\n",
       "            </tr>\n",
       "            <tr>\n",
       "                        <th id=\"T_50354346_10f2_11ec_a552_a683e7d693f6level0_row9\" class=\"row_heading level0 row9\" >Doc9</th>\n",
       "                        <td id=\"T_50354346_10f2_11ec_a552_a683e7d693f6row9_col0\" class=\"data row9 col0\" >0.020000</td>\n",
       "                        <td id=\"T_50354346_10f2_11ec_a552_a683e7d693f6row9_col1\" class=\"data row9 col1\" >0.620000</td>\n",
       "                        <td id=\"T_50354346_10f2_11ec_a552_a683e7d693f6row9_col2\" class=\"data row9 col2\" >0.020000</td>\n",
       "                        <td id=\"T_50354346_10f2_11ec_a552_a683e7d693f6row9_col3\" class=\"data row9 col3\" >0.200000</td>\n",
       "                        <td id=\"T_50354346_10f2_11ec_a552_a683e7d693f6row9_col4\" class=\"data row9 col4\" >0.140000</td>\n",
       "                        <td id=\"T_50354346_10f2_11ec_a552_a683e7d693f6row9_col5\" class=\"data row9 col5\" >1</td>\n",
       "            </tr>\n",
       "            <tr>\n",
       "                        <th id=\"T_50354346_10f2_11ec_a552_a683e7d693f6level0_row10\" class=\"row_heading level0 row10\" >Doc10</th>\n",
       "                        <td id=\"T_50354346_10f2_11ec_a552_a683e7d693f6row10_col0\" class=\"data row10 col0\" >0.730000</td>\n",
       "                        <td id=\"T_50354346_10f2_11ec_a552_a683e7d693f6row10_col1\" class=\"data row10 col1\" >0.070000</td>\n",
       "                        <td id=\"T_50354346_10f2_11ec_a552_a683e7d693f6row10_col2\" class=\"data row10 col2\" >0.070000</td>\n",
       "                        <td id=\"T_50354346_10f2_11ec_a552_a683e7d693f6row10_col3\" class=\"data row10 col3\" >0.070000</td>\n",
       "                        <td id=\"T_50354346_10f2_11ec_a552_a683e7d693f6row10_col4\" class=\"data row10 col4\" >0.070000</td>\n",
       "                        <td id=\"T_50354346_10f2_11ec_a552_a683e7d693f6row10_col5\" class=\"data row10 col5\" >0</td>\n",
       "            </tr>\n",
       "            <tr>\n",
       "                        <th id=\"T_50354346_10f2_11ec_a552_a683e7d693f6level0_row11\" class=\"row_heading level0 row11\" >Doc11</th>\n",
       "                        <td id=\"T_50354346_10f2_11ec_a552_a683e7d693f6row11_col0\" class=\"data row11 col0\" >0.100000</td>\n",
       "                        <td id=\"T_50354346_10f2_11ec_a552_a683e7d693f6row11_col1\" class=\"data row11 col1\" >0.100000</td>\n",
       "                        <td id=\"T_50354346_10f2_11ec_a552_a683e7d693f6row11_col2\" class=\"data row11 col2\" >0.100000</td>\n",
       "                        <td id=\"T_50354346_10f2_11ec_a552_a683e7d693f6row11_col3\" class=\"data row11 col3\" >0.600000</td>\n",
       "                        <td id=\"T_50354346_10f2_11ec_a552_a683e7d693f6row11_col4\" class=\"data row11 col4\" >0.100000</td>\n",
       "                        <td id=\"T_50354346_10f2_11ec_a552_a683e7d693f6row11_col5\" class=\"data row11 col5\" >3</td>\n",
       "            </tr>\n",
       "            <tr>\n",
       "                        <th id=\"T_50354346_10f2_11ec_a552_a683e7d693f6level0_row12\" class=\"row_heading level0 row12\" >Doc12</th>\n",
       "                        <td id=\"T_50354346_10f2_11ec_a552_a683e7d693f6row12_col0\" class=\"data row12 col0\" >0.100000</td>\n",
       "                        <td id=\"T_50354346_10f2_11ec_a552_a683e7d693f6row12_col1\" class=\"data row12 col1\" >0.100000</td>\n",
       "                        <td id=\"T_50354346_10f2_11ec_a552_a683e7d693f6row12_col2\" class=\"data row12 col2\" >0.100000</td>\n",
       "                        <td id=\"T_50354346_10f2_11ec_a552_a683e7d693f6row12_col3\" class=\"data row12 col3\" >0.600000</td>\n",
       "                        <td id=\"T_50354346_10f2_11ec_a552_a683e7d693f6row12_col4\" class=\"data row12 col4\" >0.100000</td>\n",
       "                        <td id=\"T_50354346_10f2_11ec_a552_a683e7d693f6row12_col5\" class=\"data row12 col5\" >3</td>\n",
       "            </tr>\n",
       "            <tr>\n",
       "                        <th id=\"T_50354346_10f2_11ec_a552_a683e7d693f6level0_row13\" class=\"row_heading level0 row13\" >Doc13</th>\n",
       "                        <td id=\"T_50354346_10f2_11ec_a552_a683e7d693f6row13_col0\" class=\"data row13 col0\" >0.020000</td>\n",
       "                        <td id=\"T_50354346_10f2_11ec_a552_a683e7d693f6row13_col1\" class=\"data row13 col1\" >0.240000</td>\n",
       "                        <td id=\"T_50354346_10f2_11ec_a552_a683e7d693f6row13_col2\" class=\"data row13 col2\" >0.690000</td>\n",
       "                        <td id=\"T_50354346_10f2_11ec_a552_a683e7d693f6row13_col3\" class=\"data row13 col3\" >0.020000</td>\n",
       "                        <td id=\"T_50354346_10f2_11ec_a552_a683e7d693f6row13_col4\" class=\"data row13 col4\" >0.020000</td>\n",
       "                        <td id=\"T_50354346_10f2_11ec_a552_a683e7d693f6row13_col5\" class=\"data row13 col5\" >2</td>\n",
       "            </tr>\n",
       "            <tr>\n",
       "                        <th id=\"T_50354346_10f2_11ec_a552_a683e7d693f6level0_row14\" class=\"row_heading level0 row14\" >Doc14</th>\n",
       "                        <td id=\"T_50354346_10f2_11ec_a552_a683e7d693f6row14_col0\" class=\"data row14 col0\" >0.020000</td>\n",
       "                        <td id=\"T_50354346_10f2_11ec_a552_a683e7d693f6row14_col1\" class=\"data row14 col1\" >0.020000</td>\n",
       "                        <td id=\"T_50354346_10f2_11ec_a552_a683e7d693f6row14_col2\" class=\"data row14 col2\" >0.020000</td>\n",
       "                        <td id=\"T_50354346_10f2_11ec_a552_a683e7d693f6row14_col3\" class=\"data row14 col3\" >0.210000</td>\n",
       "                        <td id=\"T_50354346_10f2_11ec_a552_a683e7d693f6row14_col4\" class=\"data row14 col4\" >0.740000</td>\n",
       "                        <td id=\"T_50354346_10f2_11ec_a552_a683e7d693f6row14_col5\" class=\"data row14 col5\" >4</td>\n",
       "            </tr>\n",
       "    </tbody></table>"
      ],
      "text/plain": [
       "<pandas.io.formats.style.Styler at 0x7f9df4911c50>"
      ]
     },
     "execution_count": 6,
     "metadata": {},
     "output_type": "execute_result"
    }
   ],
   "source": [
    "# Creates DataFrame visualizing the distribution of themes across documents\n",
    "df_document_themes = create_theme_matrix(X, lda_model, survey_df)\n",
    "df_document_styled = df_document_themes.head(15).style.applymap(color_green).applymap(make_bold)\n",
    "df_document_styled"
   ]
  },
  {
   "cell_type": "code",
   "execution_count": 7,
   "metadata": {},
   "outputs": [
    {
     "data": {
      "text/html": [
       "<div>\n",
       "<style scoped>\n",
       "    .dataframe tbody tr th:only-of-type {\n",
       "        vertical-align: middle;\n",
       "    }\n",
       "\n",
       "    .dataframe tbody tr th {\n",
       "        vertical-align: top;\n",
       "    }\n",
       "\n",
       "    .dataframe thead th {\n",
       "        text-align: right;\n",
       "    }\n",
       "</style>\n",
       "<table border=\"1\" class=\"dataframe\">\n",
       "  <thead>\n",
       "    <tr style=\"text-align: right;\">\n",
       "      <th></th>\n",
       "      <th>Theme #</th>\n",
       "      <th>Num Documents</th>\n",
       "    </tr>\n",
       "  </thead>\n",
       "  <tbody>\n",
       "    <tr>\n",
       "      <th>0</th>\n",
       "      <td>0</td>\n",
       "      <td>1123</td>\n",
       "    </tr>\n",
       "    <tr>\n",
       "      <th>1</th>\n",
       "      <td>3</td>\n",
       "      <td>957</td>\n",
       "    </tr>\n",
       "    <tr>\n",
       "      <th>2</th>\n",
       "      <td>2</td>\n",
       "      <td>899</td>\n",
       "    </tr>\n",
       "    <tr>\n",
       "      <th>3</th>\n",
       "      <td>4</td>\n",
       "      <td>878</td>\n",
       "    </tr>\n",
       "    <tr>\n",
       "      <th>4</th>\n",
       "      <td>1</td>\n",
       "      <td>751</td>\n",
       "    </tr>\n",
       "  </tbody>\n",
       "</table>\n",
       "</div>"
      ],
      "text/plain": [
       "   Theme #  Num Documents\n",
       "0        0           1123\n",
       "1        3            957\n",
       "2        2            899\n",
       "3        4            878\n",
       "4        1            751"
      ]
     },
     "execution_count": 7,
     "metadata": {},
     "output_type": "execute_result"
    }
   ],
   "source": [
    "# Theme distribution\n",
    "theme_distribution = df_document_themes['dominant_theme'].value_counts(sort=True).reset_index(name=\"Num Documents\")\n",
    "theme_distribution.columns = ['Theme #', 'Num Documents']\n",
    "theme_distribution"
   ]
  },
  {
   "cell_type": "code",
   "execution_count": 8,
   "metadata": {},
   "outputs": [
    {
     "data": {
      "text/plain": [
       "<AxesSubplot:title={'center':'Ranking of theme clusters according to their dominance'}, xlabel='Theme #'>"
      ]
     },
     "execution_count": 8,
     "metadata": {},
     "output_type": "execute_result"
    },
    {
     "data": {
      "image/png": "[encoded data removed]",
      "text/plain": [
       "<Figure size 432x288 with 1 Axes>"
      ]
     },
     "metadata": {
      "needs_background": "light"
     },
     "output_type": "display_data"
    }
   ],
   "source": [
    "# Dominant Theme\n",
    "theme_distribution.set_index([\"Theme #\"]).plot(\n",
    "    kind=\"bar\", title=\"Ranking of theme clusters according to their dominance\")"
   ]
  },
  {
   "cell_type": "markdown",
   "metadata": {},
   "source": [
    "## **Summary of findings**"
   ]
  },
  {
   "cell_type": "markdown",
   "metadata": {},
   "source": [
    "### General insights\n",
    "* Based on the results obtained by running Topic Modeling with LDA, we could do an exercise of manually interpreting the 5 different cluster themes as follows (sorted in descending order):\n",
    "    * **Theme #0**: Trust in institutions (1,123 documents)\n",
    "    * **Theme #3**: Healthcare plan (957 docuements)\n",
    "    * **Theme #2**: Empathy (899 documents)\n",
    "    * **Theme #4**: Contrasts with Trump (878 documents)\n",
    "    * **Theme #1**: Follow the science (751 documents)\n",
    "\n",
    "### Further improvements\n",
    "* Despite the low corpus volume (just over 50k tokens), the model could benefit from hyperparameter tuning, since:\n",
    "    * The hyperparameter `n_components` was chosen arbitrarily and might not be representative of the actual theme distribution\n",
    "    * The log-likelihood value should be maximized and the perplexity value minimized as much as possible\n",
    "    * Trying different `learning_rates` values might provide some insights into how the model converges"
   ]
  },
  {
   "cell_type": "code",
   "execution_count": null,
   "metadata": {},
   "outputs": [],
   "source": []
  }
 ],
 "metadata": {
  "kernelspec": {
   "display_name": "ds-interview",
   "language": "python",
   "name": "ds-interview"
  },
  "language_info": {
   "codemirror_mode": {
    "name": "ipython",
    "version": 3
   },
   "file_extension": ".py",
   "mimetype": "text/x-python",
   "name": "python",
   "nbconvert_exporter": "python",
   "pygments_lexer": "ipython3",
   "version": "3.6.5"
  }
 },
 "nbformat": 4,
 "nbformat_minor": 4
}
