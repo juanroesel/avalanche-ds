{
 "cells": [
  {
   "cell_type": "markdown",
   "metadata": {},
   "source": [
    "# **3 - Sentiment Analysis using pretrained multilingual BERT**\n",
    "\n",
    "This notebook contains the code that implements sentiment analysis on the open-ended responses, engineers new features based on the results, and computes correlations within theme clusters to identify potential keywords associated with positive sentiment.\n",
    "\n",
    "**Requirements**: This notebook requires having installed the packages declared in the `requirements.txt` file. Please make sure to have followed the instructions provided in the `README.md` file before running it."
   ]
  },
  {
   "cell_type": "code",
   "execution_count": null,
   "metadata": {},
   "outputs": [],
   "source": []
  }
 ],
 "metadata": {
  "kernelspec": {
   "display_name": "ds-interview",
   "language": "python",
   "name": "ds-interview"
  },
  "language_info": {
   "codemirror_mode": {
    "name": "ipython",
    "version": 3
   },
   "file_extension": ".py",
   "mimetype": "text/x-python",
   "name": "python",
   "nbconvert_exporter": "python",
   "pygments_lexer": "ipython3",
   "version": "3.6.5"
  }
 },
 "nbformat": 4,
 "nbformat_minor": 4
}
